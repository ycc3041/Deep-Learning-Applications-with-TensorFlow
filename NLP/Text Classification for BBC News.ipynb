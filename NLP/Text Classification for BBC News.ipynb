{
 "cells": [
  {
   "cell_type": "markdown",
   "metadata": {},
   "source": [
    "# Text Classification for BBC News\n",
    "In this notebook, we will show some basic concepts in NLP using the BBC news dataset that contains 5 categories. Here we demonstrate how to predict news category based on text contents in each news."
   ]
  },
  {
   "cell_type": "markdown",
   "metadata": {},
   "source": [
    "## Import Dataset & Preprocessing"
   ]
  },
  {
   "cell_type": "code",
   "execution_count": 1,
   "metadata": {
    "collapsed": true
   },
   "outputs": [],
   "source": [
    "import numpy as np\n",
    "import pandas as pd\n",
    "import random\n",
    "from random import sample \n",
    "import tensorflow as tf\n",
    "from tensorflow.keras.preprocessing.text import Tokenizer\n",
    "from tensorflow.keras.preprocessing.sequence import pad_sequences\n",
    "import matplotlib.pyplot as plt"
   ]
  },
  {
   "cell_type": "code",
   "execution_count": 2,
   "metadata": {},
   "outputs": [
    {
     "data": {
      "text/plain": [
       "153"
      ]
     },
     "execution_count": 2,
     "metadata": {},
     "output_type": "execute_result"
    }
   ],
   "source": [
    "# stopwords that we want to remove from texts we analyze\n",
    "stopwords = [ \"a\", \"about\", \"above\", \"after\", \"again\", \"against\", \"all\", \"am\", \"an\", \"and\", \"any\", \"are\", \"as\", \"at\", \"be\", \"because\", \"been\", \"before\", \"being\", \"below\", \"between\", \"both\", \"but\", \"by\", \"could\", \"did\", \"do\", \"does\", \"doing\", \"down\", \"during\", \"each\", \"few\", \"for\", \"from\", \"further\", \"had\", \"has\", \"have\", \"having\", \"he\", \"he'd\", \"he'll\", \"he's\", \"her\", \"here\", \"here's\", \"hers\", \"herself\", \"him\", \"himself\", \"his\", \"how\", \"how's\", \"i\", \"i'd\", \"i'll\", \"i'm\", \"i've\", \"if\", \"in\", \"into\", \"is\", \"it\", \"it's\", \"its\", \"itself\", \"let's\", \"me\", \"more\", \"most\", \"my\", \"myself\", \"nor\", \"of\", \"on\", \"once\", \"only\", \"or\", \"other\", \"ought\", \"our\", \"ours\", \"ourselves\", \"out\", \"over\", \"own\", \"same\", \"she\", \"she'd\", \"she'll\", \"she's\", \"should\", \"so\", \"some\", \"such\", \"than\", \"that\", \"that's\", \"the\", \"their\", \"theirs\", \"them\", \"themselves\", \"then\", \"there\", \"there's\", \"these\", \"they\", \"they'd\", \"they'll\", \"they're\", \"they've\", \"this\", \"those\", \"through\", \"to\", \"too\", \"under\", \"until\", \"up\", \"very\", \"was\", \"we\", \"we'd\", \"we'll\", \"we're\", \"we've\", \"were\", \"what\", \"what's\", \"when\", \"when's\", \"where\", \"where's\", \"which\", \"while\", \"who\", \"who's\", \"whom\", \"why\", \"why's\", \"with\", \"would\", \"you\", \"you'd\", \"you'll\", \"you're\", \"you've\", \"your\", \"yours\", \"yourself\", \"yourselves\"]\n",
    "len(stopwords)"
   ]
  },
  {
   "cell_type": "code",
   "execution_count": 3,
   "metadata": {},
   "outputs": [
    {
     "name": "stdout",
     "output_type": "stream",
     "text": [
      "(2225, 2)\n"
     ]
    },
    {
     "data": {
      "text/html": [
       "<div>\n",
       "<style scoped>\n",
       "    .dataframe tbody tr th:only-of-type {\n",
       "        vertical-align: middle;\n",
       "    }\n",
       "\n",
       "    .dataframe tbody tr th {\n",
       "        vertical-align: top;\n",
       "    }\n",
       "\n",
       "    .dataframe thead th {\n",
       "        text-align: right;\n",
       "    }\n",
       "</style>\n",
       "<table border=\"1\" class=\"dataframe\">\n",
       "  <thead>\n",
       "    <tr style=\"text-align: right;\">\n",
       "      <th></th>\n",
       "      <th>category</th>\n",
       "      <th>text</th>\n",
       "    </tr>\n",
       "  </thead>\n",
       "  <tbody>\n",
       "    <tr>\n",
       "      <th>0</th>\n",
       "      <td>tech</td>\n",
       "      <td>tv future in the hands of viewers with home th...</td>\n",
       "    </tr>\n",
       "    <tr>\n",
       "      <th>1</th>\n",
       "      <td>business</td>\n",
       "      <td>worldcom boss  left books alone  former worldc...</td>\n",
       "    </tr>\n",
       "    <tr>\n",
       "      <th>2</th>\n",
       "      <td>sport</td>\n",
       "      <td>tigers wary of farrell  gamble  leicester say ...</td>\n",
       "    </tr>\n",
       "    <tr>\n",
       "      <th>3</th>\n",
       "      <td>sport</td>\n",
       "      <td>yeading face newcastle in fa cup premiership s...</td>\n",
       "    </tr>\n",
       "    <tr>\n",
       "      <th>4</th>\n",
       "      <td>entertainment</td>\n",
       "      <td>ocean s twelve raids box office ocean s twelve...</td>\n",
       "    </tr>\n",
       "  </tbody>\n",
       "</table>\n",
       "</div>"
      ],
      "text/plain": [
       "        category                                               text\n",
       "0           tech  tv future in the hands of viewers with home th...\n",
       "1       business  worldcom boss  left books alone  former worldc...\n",
       "2          sport  tigers wary of farrell  gamble  leicester say ...\n",
       "3          sport  yeading face newcastle in fa cup premiership s...\n",
       "4  entertainment  ocean s twelve raids box office ocean s twelve..."
      ]
     },
     "execution_count": 3,
     "metadata": {},
     "output_type": "execute_result"
    }
   ],
   "source": [
    "df = pd.read_csv('bbc-text.csv')\n",
    "print(df.shape)\n",
    "df.head()"
   ]
  },
  {
   "cell_type": "code",
   "execution_count": 4,
   "metadata": {},
   "outputs": [
    {
     "data": {
      "text/plain": [
       "{'business', 'entertainment', 'politics', 'sport', 'tech'}"
      ]
     },
     "execution_count": 4,
     "metadata": {},
     "output_type": "execute_result"
    }
   ],
   "source": [
    "# see all categories\n",
    "set(df['category'])"
   ]
  },
  {
   "cell_type": "code",
   "execution_count": 5,
   "metadata": {},
   "outputs": [
    {
     "name": "stdout",
     "output_type": "stream",
     "text": [
      "Original length: 4333\n"
     ]
    },
    {
     "data": {
      "text/plain": [
       "'tv future in the hands of viewers with home theatre systems  plasma high-definition tvs  and digital video recorders moving into the living room  the way people watch tv will be radically different in five years  time.  that is according to an expert panel which gathered at the annual consumer electronics show in las vegas to discuss how these new technologies will impact one of our favourite pastimes. with the us leading the trend  programmes and other content will be delivered to viewers via home networks  through cable  satellite  telecoms companies  and broadband service providers to front rooms and portable devices.  one of the most talked-about technologies of ces has been digital and personal video recorders (dvr and pvr). these set-top boxes  like the us s tivo and the uk s sky+ system  allow people to record  store  play  pause and forward wind tv programmes when they want.  essentially  the technology allows for much more personalised tv. they are also being built-in to high-definition tv sets  which are big business in japan and the us  but slower to take off in europe because of the lack of high-definition programming. not only can people forward wind through adverts  they can also forget about abiding by network and channel schedules  putting together their own a-la-carte entertainment. but some us networks and cable and satellite companies are worried about what it means for them in terms of advertising revenues as well as  brand identity  and viewer loyalty to channels. although the us leads in this technology at the moment  it is also a concern that is being raised in europe  particularly with the growing uptake of services like sky+.  what happens here today  we will see in nine months to a years  time in the uk   adam hume  the bbc broadcast s futurologist told the bbc news website. for the likes of the bbc  there are no issues of lost advertising revenue yet. it is a more pressing issue at the moment for commercial uk broadcasters  but brand loyalty is important for everyone.  we will be talking more about content brands rather than network brands   said tim hanlon  from brand communications firm starcom mediavest.  the reality is that with broadband connections  anybody can be the producer of content.  he added:  the challenge now is that it is hard to promote a programme with so much choice.   what this means  said stacey jolna  senior vice president of tv guide tv group  is that the way people find the content they want to watch has to be simplified for tv viewers. it means that networks  in us terms  or channels could take a leaf out of google s book and be the search engine of the future  instead of the scheduler to help people find what they want to watch. this kind of channel model might work for the younger ipod generation which is used to taking control of their gadgets and what they play on them. but it might not suit everyone  the panel recognised. older generations are more comfortable with familiar schedules and channel brands because they know what they are getting. they perhaps do not want so much of the choice put into their hands  mr hanlon suggested.  on the other end  you have the kids just out of diapers who are pushing buttons already - everything is possible and available to them   said mr hanlon.  ultimately  the consumer will tell the market they want.   of the 50 000 new gadgets and technologies being showcased at ces  many of them are about enhancing the tv-watching experience. high-definition tv sets are everywhere and many new models of lcd (liquid crystal display) tvs have been launched with dvr capability built into them  instead of being external boxes. one such example launched at the show is humax s 26-inch lcd tv with an 80-hour tivo dvr and dvd recorder. one of the us s biggest satellite tv companies  directtv  has even launched its own branded dvr at the show with 100-hours of recording capability  instant replay  and a search function. the set can pause and rewind tv for up to 90 hours. and microsoft chief bill gates announced in his pre-show keynote speech a partnership with tivo  called tivotogo  which means people can play recorded programmes on windows pcs and mobile devices. all these reflect the increasing trend of freeing up multimedia so that people can watch what they want  when they want.'"
      ]
     },
     "execution_count": 5,
     "metadata": {},
     "output_type": "execute_result"
    }
   ],
   "source": [
    "# prepare sentences list\n",
    "ori_sentences = list(df['text'])\n",
    "print('Original length:', len(ori_sentences[0]))\n",
    "ori_sentences[0]"
   ]
  },
  {
   "cell_type": "code",
   "execution_count": 6,
   "metadata": {
    "scrolled": true
   },
   "outputs": [
    {
     "name": "stdout",
     "output_type": "stream",
     "text": [
      "Editted length: 3017\n"
     ]
    },
    {
     "data": {
      "text/plain": [
       "'tv future hands viewers home theatre systems plasma high-definition tvs digital video recorders moving living room way people watch tv will radically different five years time.according expert panel gathered annual consumer electronics show las vegas discuss new technologies will impact one favourite pastimes.us leading trend programmes content will delivered viewers via home networks cable satellite telecoms companies broadband service providers front rooms portable devices.one talked-about technologies ces digital personal video recorders (dvr pvr).set-top boxes like us s tivo uk s sky+ system allow people record store play pause forward wind tv programmes want.essentially technology allows much personalised tv.also built-in high-definition tv sets big business japan us slower take off europe lack high-definition programming.not can people forward wind adverts can also forget abiding network channel schedules putting together a-la-carte entertainment.us networks cable satellite companies worried means terms advertising revenues well brand identity viewer loyalty channels.although us leads technology moment also concern raised europe particularly growing uptake services like sky+.happens today will see nine months years time uk adam hume bbc broadcast s futurologist told bbc news website.likes bbc no issues lost advertising revenue yet.pressing issue moment commercial uk broadcasters brand loyalty important everyone.will talking content brands rather network brands said tim hanlon brand communications firm starcom mediavest.reality broadband connections anybody can producer content.added:challenge now hard promote programme much choice.means said stacey jolna senior vice president tv guide tv group way people find content want watch simplified tv viewers.means networks us terms channels take leaf google s book search engine future instead scheduler help people find want watch.kind channel model might work younger ipod generation used taking control gadgets play might not suit everyone panel recognised.older generations comfortable familiar schedules channel brands know getting.perhaps not want much choice put hands mr hanlon suggested.end kids just diapers pushing buttons already - everything possible available said mr hanlon.ultimately consumer will tell market want.50 000 new gadgets technologies showcased ces many enhancing tv-watching experience.high-definition tv sets everywhere many new models lcd (liquid crystal display)tvs launched dvr capability built instead external boxes.one example launched show humax s 26-inch lcd tv 80-hour tivo dvr dvd recorder.one us s biggest satellite tv companies directtv even launched branded dvr show 100-hours recording capability instant replay search function.set can pause rewind tv 90 hours.microsoft chief bill gates announced pre-show keynote speech partnership tivo called tivotogo means people can play recorded programmes windows pcs mobile devices.reflect increasing trend freeing multimedia people can watch want want.'"
      ]
     },
     "execution_count": 6,
     "metadata": {},
     "output_type": "execute_result"
    }
   ],
   "source": [
    "# remove stopwords in sentences\n",
    "pun = ['.', '!', '?', ')', ':']\n",
    "sentences = []\n",
    "for sen in ori_sentences:\n",
    "    res = ''\n",
    "    for word in sen.split():\n",
    "        if word[-1] in pun:\n",
    "            if word[:-1] not in stopwords:\n",
    "                res = res + word + ''\n",
    "        elif word not in stopwords:\n",
    "            res = res + word + ' '\n",
    "    sentences.append(res)\n",
    "print('Editted length:', len(sentences[0]))\n",
    "sentences[0]"
   ]
  },
  {
   "cell_type": "code",
   "execution_count": 7,
   "metadata": {},
   "outputs": [
    {
     "data": {
      "text/plain": [
       "['tech', 'business', 'sport', 'sport', 'entertainment']"
      ]
     },
     "execution_count": 7,
     "metadata": {},
     "output_type": "execute_result"
    }
   ],
   "source": [
    "# prepare labels list\n",
    "labels = list(df['category'])\n",
    "labels[:5]"
   ]
  },
  {
   "cell_type": "code",
   "execution_count": 8,
   "metadata": {
    "scrolled": true
   },
   "outputs": [
    {
     "name": "stdout",
     "output_type": "stream",
     "text": [
      "2225\n",
      "2225\n"
     ]
    }
   ],
   "source": [
    "print(len(sentences))\n",
    "print(len(labels))"
   ]
  },
  {
   "cell_type": "markdown",
   "metadata": {},
   "source": [
    "## Split Training & Test Set"
   ]
  },
  {
   "cell_type": "code",
   "execution_count": 9,
   "metadata": {},
   "outputs": [
    {
     "name": "stdout",
     "output_type": "stream",
     "text": [
      "Training: 2002\n",
      "Test: 223\n"
     ]
    }
   ],
   "source": [
    "train_ratio = 0.9\n",
    "num = int(len(sentences) * 0.9)\n",
    "\n",
    "random.seed(101)\n",
    "shuffled_sentences = sample(sentences, len(sentences))\n",
    "random.seed(101)\n",
    "shuffled_labels = sample(labels, len(labels))\n",
    "\n",
    "X_train = shuffled_sentences[:num]\n",
    "y_train = shuffled_labels[:num]\n",
    "X_test = shuffled_sentences[num:]\n",
    "y_test = shuffled_labels[num:]\n",
    "\n",
    "print('Training:', len(X_train))\n",
    "print('Test:', len(X_test))"
   ]
  },
  {
   "cell_type": "markdown",
   "metadata": {},
   "source": [
    "## Tokenize Sentences & Labels"
   ]
  },
  {
   "cell_type": "code",
   "execution_count": 10,
   "metadata": {},
   "outputs": [
    {
     "name": "stdout",
     "output_type": "stream",
     "text": [
      "Total words in training: 28433\n",
      "Padded seq training example: [ 13   1   1 255   1   1   1 230 110   1   1   1 379   1   1 153   1   8\n",
      "   1 264   1 149   1   1   1 232   1   1 211 397   6   1  54   1   1 551\n",
      "   2   1  43  26   1   1   1 648   2   8  12  48   1 401   1   1   1  99\n",
      " 153 499 551  61   1 649   1 864   1   1   1 384   1 144 149 379   1   1\n",
      " 198   1 198   1 153  13   1   1   1   1   1 373   1 175 973 149   1   1\n",
      " 379   6   1  54   1 318   1 477   1 317   1  45   1 551   1 406 464 924\n",
      "   1  19   2 660 696   1   1  84   1 333  33 470  82 111   1   1   1 230\n",
      "   1 648 627 342   1   1   1   1 317 551   1 831   1   1   6   1  54   1\n",
      " 119 114   1   1   1 444 111   1   1 648   1   1 255   1 794 110 299 648\n",
      "  13  45  53 668 407 310   1   1 936   1   1 255   1  54 551   2   1 522\n",
      "   1 342   1 152  19 566  10 240 212 232   1  61 212   1 574   1   1  97\n",
      "   1 138]\n",
      "Padded seq training shape: (2002, 200)\n",
      "Padded seq test shape: (223, 200)\n"
     ]
    }
   ],
   "source": [
    "# create tokenizer and fit on training sentences\n",
    "# then pad on training and test sentences\n",
    "num_words = 1000\n",
    "oov_token = \"<OOV>\"\n",
    "maxlen = 200\n",
    "\n",
    "tokenizer = Tokenizer(num_words=num_words, oov_token=oov_token)\n",
    "tokenizer.fit_on_texts(X_train)\n",
    "wordIndex = tokenizer.word_index\n",
    "\n",
    "seq_train = tokenizer.texts_to_sequences(X_train)\n",
    "padded_train = pad_sequences(seq_train, maxlen=maxlen, padding='post')\n",
    "seq_test = tokenizer.texts_to_sequences(X_test)\n",
    "padded_test = pad_sequences(seq_test, maxlen=maxlen, padding='post')\n",
    "\n",
    "print('Total words in training:', len(wordIndex))\n",
    "print('Padded seq training example:', padded_train[0])\n",
    "print('Padded seq training shape:', padded_train.shape)\n",
    "print('Padded seq test shape:', padded_test.shape)"
   ]
  },
  {
   "cell_type": "code",
   "execution_count": 11,
   "metadata": {},
   "outputs": [
    {
     "name": "stdout",
     "output_type": "stream",
     "text": [
      "Total words: 5\n",
      "Word and index: {'sport': 1, 'business': 2, 'politics': 3, 'entertainment': 4, 'tech': 5}\n",
      "Seq training example: [[5]\n",
      " [4]\n",
      " [1]\n",
      " [1]\n",
      " [5]]\n"
     ]
    }
   ],
   "source": [
    "# create tokenizer and fit on training labels\n",
    "tokenizer = Tokenizer()\n",
    "tokenizer.fit_on_texts(y_train)\n",
    "wordIndex1 = tokenizer.word_index\n",
    "seq_y_train = np.array(tokenizer.texts_to_sequences(y_train))\n",
    "seq_y_test = np.array(tokenizer.texts_to_sequences(y_test))\n",
    "\n",
    "print('Total words:', len(wordIndex1))\n",
    "print('Word and index:', wordIndex1)\n",
    "print('Seq training example:', seq_y_train[:5])"
   ]
  },
  {
   "cell_type": "markdown",
   "metadata": {
    "collapsed": true
   },
   "source": [
    "## Build Model"
   ]
  },
  {
   "cell_type": "code",
   "execution_count": 12,
   "metadata": {},
   "outputs": [
    {
     "name": "stdout",
     "output_type": "stream",
     "text": [
      "Model: \"sequential\"\n",
      "_________________________________________________________________\n",
      "Layer (type)                 Output Shape              Param #   \n",
      "=================================================================\n",
      "embedding (Embedding)        (None, 200, 16)           16000     \n",
      "_________________________________________________________________\n",
      "global_average_pooling1d (Gl (None, 16)                0         \n",
      "_________________________________________________________________\n",
      "dense (Dense)                (None, 32)                544       \n",
      "_________________________________________________________________\n",
      "dense_1 (Dense)              (None, 8)                 264       \n",
      "=================================================================\n",
      "Total params: 16,808\n",
      "Trainable params: 16,808\n",
      "Non-trainable params: 0\n",
      "_________________________________________________________________\n"
     ]
    }
   ],
   "source": [
    "mod = tf.keras.Sequential([\n",
    "    tf.keras.layers.Embedding(1000, 16, input_length=200),\n",
    "    tf.keras.layers.GlobalAvgPool1D(),\n",
    "    tf.keras.layers.Dense(32, activation='relu'),\n",
    "    tf.keras.layers.Dense(8, activation='softmax')\n",
    "])\n",
    "\n",
    "mod.compile(loss='sparse_categorical_crossentropy', optimizer='adam', metrics=['accuracy'])\n",
    "\n",
    "mod.summary()"
   ]
  },
  {
   "cell_type": "code",
   "execution_count": 13,
   "metadata": {
    "scrolled": true
   },
   "outputs": [
    {
     "name": "stdout",
     "output_type": "stream",
     "text": [
      "Train on 2002 samples, validate on 223 samples\n",
      "Epoch 1/30\n",
      "2002/2002 - 1s - loss: 1.9999 - accuracy: 0.2348 - val_loss: 1.8889 - val_accuracy: 0.1839\n",
      "Epoch 2/30\n",
      "2002/2002 - 0s - loss: 1.7537 - accuracy: 0.2348 - val_loss: 1.6456 - val_accuracy: 0.1839\n",
      "Epoch 3/30\n",
      "2002/2002 - 0s - loss: 1.5582 - accuracy: 0.3312 - val_loss: 1.5098 - val_accuracy: 0.4036\n",
      "Epoch 4/30\n",
      "2002/2002 - 0s - loss: 1.4112 - accuracy: 0.5909 - val_loss: 1.3565 - val_accuracy: 0.6009\n",
      "Epoch 5/30\n",
      "2002/2002 - 0s - loss: 1.2447 - accuracy: 0.6703 - val_loss: 1.1839 - val_accuracy: 0.7578\n",
      "Epoch 6/30\n",
      "2002/2002 - 0s - loss: 1.0562 - accuracy: 0.8012 - val_loss: 0.9945 - val_accuracy: 0.7848\n",
      "Epoch 7/30\n",
      "2002/2002 - 0s - loss: 0.8578 - accuracy: 0.8646 - val_loss: 0.8031 - val_accuracy: 0.8610\n",
      "Epoch 8/30\n",
      "2002/2002 - 0s - loss: 0.6775 - accuracy: 0.9061 - val_loss: 0.6383 - val_accuracy: 0.9103\n",
      "Epoch 9/30\n",
      "2002/2002 - 0s - loss: 0.5268 - accuracy: 0.9376 - val_loss: 0.5084 - val_accuracy: 0.9327\n",
      "Epoch 10/30\n",
      "2002/2002 - 0s - loss: 0.4167 - accuracy: 0.9496 - val_loss: 0.4175 - val_accuracy: 0.9507\n",
      "Epoch 11/30\n",
      "2002/2002 - 0s - loss: 0.3374 - accuracy: 0.9600 - val_loss: 0.3504 - val_accuracy: 0.9417\n",
      "Epoch 12/30\n",
      "2002/2002 - 0s - loss: 0.2801 - accuracy: 0.9645 - val_loss: 0.3037 - val_accuracy: 0.9507\n",
      "Epoch 13/30\n",
      "2002/2002 - 0s - loss: 0.2360 - accuracy: 0.9670 - val_loss: 0.2649 - val_accuracy: 0.9596\n",
      "Epoch 14/30\n",
      "2002/2002 - 0s - loss: 0.2017 - accuracy: 0.9740 - val_loss: 0.2402 - val_accuracy: 0.9596\n",
      "Epoch 15/30\n",
      "2002/2002 - 0s - loss: 0.1747 - accuracy: 0.9755 - val_loss: 0.2187 - val_accuracy: 0.9596\n",
      "Epoch 16/30\n",
      "2002/2002 - 0s - loss: 0.1537 - accuracy: 0.9790 - val_loss: 0.2004 - val_accuracy: 0.9641\n",
      "Epoch 17/30\n",
      "2002/2002 - 0s - loss: 0.1362 - accuracy: 0.9805 - val_loss: 0.1858 - val_accuracy: 0.9641\n",
      "Epoch 18/30\n",
      "2002/2002 - 0s - loss: 0.1213 - accuracy: 0.9855 - val_loss: 0.1760 - val_accuracy: 0.9641\n",
      "Epoch 19/30\n",
      "2002/2002 - 0s - loss: 0.1085 - accuracy: 0.9860 - val_loss: 0.1640 - val_accuracy: 0.9641\n",
      "Epoch 20/30\n",
      "2002/2002 - 0s - loss: 0.0978 - accuracy: 0.9890 - val_loss: 0.1570 - val_accuracy: 0.9686\n",
      "Epoch 21/30\n",
      "2002/2002 - 0s - loss: 0.0885 - accuracy: 0.9895 - val_loss: 0.1510 - val_accuracy: 0.9686\n",
      "Epoch 22/30\n",
      "2002/2002 - 0s - loss: 0.0801 - accuracy: 0.9905 - val_loss: 0.1475 - val_accuracy: 0.9641\n",
      "Epoch 23/30\n",
      "2002/2002 - 0s - loss: 0.0733 - accuracy: 0.9915 - val_loss: 0.1421 - val_accuracy: 0.9641\n",
      "Epoch 24/30\n",
      "2002/2002 - 0s - loss: 0.0669 - accuracy: 0.9925 - val_loss: 0.1391 - val_accuracy: 0.9686\n",
      "Epoch 25/30\n",
      "2002/2002 - 0s - loss: 0.0613 - accuracy: 0.9925 - val_loss: 0.1359 - val_accuracy: 0.9686\n",
      "Epoch 26/30\n",
      "2002/2002 - 0s - loss: 0.0559 - accuracy: 0.9950 - val_loss: 0.1332 - val_accuracy: 0.9686\n",
      "Epoch 27/30\n",
      "2002/2002 - 0s - loss: 0.0517 - accuracy: 0.9950 - val_loss: 0.1320 - val_accuracy: 0.9731\n",
      "Epoch 28/30\n",
      "2002/2002 - 0s - loss: 0.0471 - accuracy: 0.9945 - val_loss: 0.1297 - val_accuracy: 0.9686\n",
      "Epoch 29/30\n",
      "2002/2002 - 0s - loss: 0.0431 - accuracy: 0.9970 - val_loss: 0.1287 - val_accuracy: 0.9686\n",
      "Epoch 30/30\n",
      "2002/2002 - 0s - loss: 0.0403 - accuracy: 0.9985 - val_loss: 0.1271 - val_accuracy: 0.9686\n"
     ]
    }
   ],
   "source": [
    "history = mod.fit(padded_train, \n",
    "                  seq_y_train, \n",
    "                  epochs=30, \n",
    "                  validation_data=(padded_test, seq_y_test), \n",
    "                  verbose=2)"
   ]
  },
  {
   "cell_type": "markdown",
   "metadata": {},
   "source": [
    "## Get Initial Result"
   ]
  },
  {
   "cell_type": "code",
   "execution_count": 14,
   "metadata": {
    "scrolled": false
   },
   "outputs": [
    {
     "data": {
      "image/png": "[encoded data removed]",
      "text/plain": [
       "<Figure size 432x288 with 1 Axes>"
      ]
     },
     "metadata": {
      "needs_background": "light"
     },
     "output_type": "display_data"
    },
    {
     "data": {
      "image/png": "[encoded data removed]",
      "text/plain": [
       "<Figure size 432x288 with 1 Axes>"
      ]
     },
     "metadata": {
      "needs_background": "light"
     },
     "output_type": "display_data"
    }
   ],
   "source": [
    "def plot(history, string):\n",
    "    plt.plot(history.history[string])\n",
    "    plt.plot(history.history['val_'+string])\n",
    "    plt.xlabel('Epoch')\n",
    "    plt.ylabel(string)\n",
    "    plt.legend([string, 'val_'+string])\n",
    "    plt.show()\n",
    "\n",
    "plot(history, 'accuracy')\n",
    "plot(history, 'loss')"
   ]
  }
 ],
 "metadata": {
  "kernelspec": {
   "display_name": "Python 3",
   "language": "python",
   "name": "python3"
  },
  "language_info": {
   "codemirror_mode": {
    "name": "ipython",
    "version": 3
   },
   "file_extension": ".py",
   "mimetype": "text/x-python",
   "name": "python",
   "nbconvert_exporter": "python",
   "pygments_lexer": "ipython3",
   "version": "3.6.8"
  }
 },
 "nbformat": 4,
 "nbformat_minor": 2
}
